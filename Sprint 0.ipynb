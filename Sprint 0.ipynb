{
 "cells": [
  {
   "cell_type": "markdown",
   "id": "7debc2ce",
   "metadata": {},
   "source": [
    " # SPRINT 0"
   ]
  },
  {
   "cell_type": "markdown",
   "id": "f56ced4b",
   "metadata": {},
   "source": [
    "## Calculos sencillos"
   ]
  },
  {
   "cell_type": "code",
   "execution_count": 1,
   "id": "baca20f7",
   "metadata": {},
   "outputs": [
    {
     "data": {
      "text/plain": [
       "2"
      ]
     },
     "execution_count": 1,
     "metadata": {},
     "output_type": "execute_result"
    }
   ],
   "source": [
    "1 + 1"
   ]
  },
  {
   "cell_type": "code",
   "execution_count": 2,
   "id": "caa8991d",
   "metadata": {},
   "outputs": [
    {
     "data": {
      "text/plain": [
       "5.0"
      ]
     },
     "execution_count": 2,
     "metadata": {},
     "output_type": "execute_result"
    }
   ],
   "source": [
    "10/2"
   ]
  },
  {
   "cell_type": "markdown",
   "id": "5bc9e869",
   "metadata": {},
   "source": [
    "## Pruebas de formatos"
   ]
  },
  {
   "cell_type": "markdown",
   "id": "7d0e2a14",
   "metadata": {},
   "source": [
    "### De formatos de texto"
   ]
  },
  {
   "cell_type": "markdown",
   "id": "eabbafe6",
   "metadata": {},
   "source": [
    "Esta **palabra** va en negrita y esta *otra palabra* en cursiva. Ahora ***todo*** en ambos formatos. \n",
    "~~Este texto está tachado.~~"
   ]
  },
  {
   "cell_type": "markdown",
   "id": "c4acdd61",
   "metadata": {},
   "source": [
    "Esto es `código`."
   ]
  },
  {
   "cell_type": "markdown",
   "id": "61b67b15",
   "metadata": {},
   "source": [
    "### De listas"
   ]
  },
  {
   "cell_type": "markdown",
   "id": "5ab22898",
   "metadata": {},
   "source": [
    "+ Elemento 1\n",
    "+ Elemento 2\n",
    "+ ...\n",
    "+ Elemento n"
   ]
  },
  {
   "cell_type": "markdown",
   "id": "d743be08",
   "metadata": {},
   "source": [
    "+ [ ] A\n",
    "+ [ ] B\n",
    "+ [ ] C"
   ]
  },
  {
   "cell_type": "markdown",
   "id": "136d5c2e",
   "metadata": {},
   "source": [
    "[![Y aquí Jupiter](https://pixabay.com/photos/space-jupiter-astronomy-universe-4869815/)](https://pixabay.com/photos/space-jupiter-astronomy-universe-4869815/)"
   ]
  },
  {
   "cell_type": "code",
   "execution_count": null,
   "id": "9a876960",
   "metadata": {},
   "outputs": [],
   "source": []
  }
 ],
 "metadata": {
  "kernelspec": {
   "display_name": "Python 3 (ipykernel)",
   "language": "python",
   "name": "python3"
  },
  "language_info": {
   "codemirror_mode": {
    "name": "ipython",
    "version": 3
   },
   "file_extension": ".py",
   "mimetype": "text/x-python",
   "name": "python",
   "nbconvert_exporter": "python",
   "pygments_lexer": "ipython3",
   "version": "3.9.13"
  }
 },
 "nbformat": 4,
 "nbformat_minor": 5
}
